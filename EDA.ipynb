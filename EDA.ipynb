{
 "cells": [
  {
   "cell_type": "code",
   "execution_count": 2,
   "metadata": {},
   "outputs": [],
   "source": [
    "import pandas as pd\n",
    "import matplotlib.pyplot as plt\n",
    "\n",
    "from collections import Counter"
   ]
  },
  {
   "cell_type": "code",
   "execution_count": 4,
   "metadata": {},
   "outputs": [],
   "source": [
    "df_train = pd.read_csv(\"./Data/train_final.csv\")\n",
    "df_test = pd.read_csv(\"./Data/public_final.csv\")"
   ]
  },
  {
   "cell_type": "code",
   "execution_count": 7,
   "metadata": {},
   "outputs": [
    {
     "data": {
      "text/html": [
       "<div>\n",
       "<style scoped>\n",
       "    .dataframe tbody tr th:only-of-type {\n",
       "        vertical-align: middle;\n",
       "    }\n",
       "\n",
       "    .dataframe tbody tr th {\n",
       "        vertical-align: top;\n",
       "    }\n",
       "\n",
       "    .dataframe thead th {\n",
       "        text-align: right;\n",
       "    }\n",
       "</style>\n",
       "<table border=\"1\" class=\"dataframe\">\n",
       "  <thead>\n",
       "    <tr style=\"text-align: right;\">\n",
       "      <th></th>\n",
       "      <th>Review</th>\n",
       "      <th>giai_tri</th>\n",
       "      <th>luu_tru</th>\n",
       "      <th>nha_hang</th>\n",
       "      <th>an_uong</th>\n",
       "      <th>di_chuyen</th>\n",
       "      <th>mua_sam</th>\n",
       "    </tr>\n",
       "  </thead>\n",
       "  <tbody>\n",
       "    <tr>\n",
       "      <th>0</th>\n",
       "      <td>Bánh rất nhiều tôm to, tôm giòn nằm chễm chệ t...</td>\n",
       "      <td>0</td>\n",
       "      <td>0</td>\n",
       "      <td>0</td>\n",
       "      <td>5</td>\n",
       "      <td>0</td>\n",
       "      <td>0</td>\n",
       "    </tr>\n",
       "    <tr>\n",
       "      <th>1</th>\n",
       "      <td>Đi Quy Nhơn cứ lo không có pizza ăn nhưng nhờ ...</td>\n",
       "      <td>0</td>\n",
       "      <td>0</td>\n",
       "      <td>0</td>\n",
       "      <td>5</td>\n",
       "      <td>0</td>\n",
       "      <td>0</td>\n",
       "    </tr>\n",
       "    <tr>\n",
       "      <th>2</th>\n",
       "      <td>các món ăn ở đây không có gì đặc sắc, có lẽ nấ...</td>\n",
       "      <td>0</td>\n",
       "      <td>0</td>\n",
       "      <td>1</td>\n",
       "      <td>1</td>\n",
       "      <td>0</td>\n",
       "      <td>0</td>\n",
       "    </tr>\n",
       "    <tr>\n",
       "      <th>3</th>\n",
       "      <td>Lần thứ 2 quay lại đây, vì giới thiệu quán cà ...</td>\n",
       "      <td>0</td>\n",
       "      <td>0</td>\n",
       "      <td>0</td>\n",
       "      <td>2</td>\n",
       "      <td>0</td>\n",
       "      <td>0</td>\n",
       "    </tr>\n",
       "    <tr>\n",
       "      <th>4</th>\n",
       "      <td>Rất khuyên bạn nên ghé thăm quán bar thể thao này</td>\n",
       "      <td>3</td>\n",
       "      <td>0</td>\n",
       "      <td>0</td>\n",
       "      <td>0</td>\n",
       "      <td>0</td>\n",
       "      <td>0</td>\n",
       "    </tr>\n",
       "  </tbody>\n",
       "</table>\n",
       "</div>"
      ],
      "text/plain": [
       "                                              Review  giai_tri  luu_tru  \\\n",
       "0  Bánh rất nhiều tôm to, tôm giòn nằm chễm chệ t...         0        0   \n",
       "1  Đi Quy Nhơn cứ lo không có pizza ăn nhưng nhờ ...         0        0   \n",
       "2  các món ăn ở đây không có gì đặc sắc, có lẽ nấ...         0        0   \n",
       "3  Lần thứ 2 quay lại đây, vì giới thiệu quán cà ...         0        0   \n",
       "4  Rất khuyên bạn nên ghé thăm quán bar thể thao này         3        0   \n",
       "\n",
       "   nha_hang  an_uong  di_chuyen  mua_sam  \n",
       "0         0        5          0        0  \n",
       "1         0        5          0        0  \n",
       "2         1        1          0        0  \n",
       "3         0        2          0        0  \n",
       "4         0        0          0        0  "
      ]
     },
     "execution_count": 7,
     "metadata": {},
     "output_type": "execute_result"
    }
   ],
   "source": [
    "df_train.head()"
   ]
  },
  {
   "cell_type": "code",
   "execution_count": 5,
   "metadata": {},
   "outputs": [
    {
     "data": {
      "image/png": "[encoded data removed]",
      "text/plain": [
       "<Figure size 432x288 with 1 Axes>"
      ]
     },
     "metadata": {
      "needs_background": "light"
     },
     "output_type": "display_data"
    }
   ],
   "source": [
    "def count_words(dataframe):\n",
    "    len_words = []\n",
    "    for i, review in enumerate(dataframe.Review):\n",
    "        num_word = len(review.split())\n",
    "        len_words.append(num_word)\n",
    "    return Counter(len_words)\n",
    "\n",
    "word_nums = count_words(df_train)\n",
    "plt.bar(word_nums.keys(), word_nums.values())\n",
    "plt.show()"
   ]
  },
  {
   "cell_type": "code",
   "execution_count": 6,
   "metadata": {},
   "outputs": [],
   "source": [
    "def count_aspects_num(df, feature_name):\n",
    "    count = 0\n",
    "    for i in range(len(df)):\n",
    "        if df[feature_name][i] != 0:\n",
    "            count += 1\n",
    "    return count"
   ]
  },
  {
   "cell_type": "code",
   "execution_count": 8,
   "metadata": {},
   "outputs": [
    {
     "name": "stdout",
     "output_type": "stream",
     "text": [
      "1151\n",
      "438\n",
      "599\n",
      "588\n",
      "248\n"
     ]
    }
   ],
   "source": [
    "anuong_num = count_aspects_num(df_train, \"an_uong\")\n",
    "giaitri_num = count_aspects_num(df_train, \"giai_tri\")\n",
    "luutru_num = count_aspects_num(df_train, \"luu_tru\")\n",
    "nhahang_num = count_aspects_num(df_train, \"nha_hang\")\n",
    "dichuyen_num = count_aspects_num(df_train, \"di_chuyen\")\n",
    "muasam_num = count_aspects_num(df_train, \"mua_sam\")\n",
    "\n",
    "print(anuong_num)\n",
    "print(giaitri_num)\n",
    "print(luutru_num)\n",
    "print(dichuyen_num)\n",
    "print(muasam_num)"
   ]
  }
 ],
 "metadata": {
  "kernelspec": {
   "display_name": "Python 3.10.5 ('venv': venv)",
   "language": "python",
   "name": "python3"
  },
  "language_info": {
   "codemirror_mode": {
    "name": "ipython",
    "version": 3
   },
   "file_extension": ".py",
   "mimetype": "text/x-python",
   "name": "python",
   "nbconvert_exporter": "python",
   "pygments_lexer": "ipython3",
   "version": "3.10.5"
  },
  "orig_nbformat": 4,
  "vscode": {
   "interpreter": {
    "hash": "047654bfb75abd3f73c95a50a7bbe26639bc0698d84768910088f7446af28582"
   }
  }
 },
 "nbformat": 4,
 "nbformat_minor": 2
}
