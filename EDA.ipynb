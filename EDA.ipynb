{
 "cells": [
  {
   "cell_type": "code",
   "execution_count": 1,
   "metadata": {},
   "outputs": [],
   "source": [
    "import pandas as pd\n",
    "import matplotlib.pyplot as plt\n",
    "\n",
    "from collections import Counter"
   ]
  },
  {
   "cell_type": "code",
   "execution_count": 3,
   "metadata": {},
   "outputs": [],
   "source": [
    "df_train = pd.read_csv(\"./dataset/processed_data_v1.csv\")\n",
    "df_test = pd.read_csv(\"./dataset/clean_test_dataset_v2.csv\")"
   ]
  },
  {
   "cell_type": "code",
   "execution_count": 4,
   "metadata": {},
   "outputs": [
    {
     "data": {
      "text/html": [
       "<div>\n",
       "<style scoped>\n",
       "    .dataframe tbody tr th:only-of-type {\n",
       "        vertical-align: middle;\n",
       "    }\n",
       "\n",
       "    .dataframe tbody tr th {\n",
       "        vertical-align: top;\n",
       "    }\n",
       "\n",
       "    .dataframe thead th {\n",
       "        text-align: right;\n",
       "    }\n",
       "</style>\n",
       "<table border=\"1\" class=\"dataframe\">\n",
       "  <thead>\n",
       "    <tr style=\"text-align: right;\">\n",
       "      <th></th>\n",
       "      <th>Unnamed: 0</th>\n",
       "      <th>Review</th>\n",
       "      <th>giai_tri</th>\n",
       "      <th>luu_tru</th>\n",
       "      <th>nha_hang</th>\n",
       "      <th>an_uong</th>\n",
       "      <th>di_chuyen</th>\n",
       "      <th>mua_sam</th>\n",
       "      <th>label</th>\n",
       "      <th>clean_review</th>\n",
       "    </tr>\n",
       "  </thead>\n",
       "  <tbody>\n",
       "    <tr>\n",
       "      <th>0</th>\n",
       "      <td>0</td>\n",
       "      <td>Bánh rất nhiều tôm to, tôm giòn nằm chễm chệ t...</td>\n",
       "      <td>0</td>\n",
       "      <td>0</td>\n",
       "      <td>0</td>\n",
       "      <td>5</td>\n",
       "      <td>0</td>\n",
       "      <td>0</td>\n",
       "      <td>{an_uong#very_positive}</td>\n",
       "      <td>bánh rất nhiều tôm to tôm giòn nằm chễm_chệ tr...</td>\n",
       "    </tr>\n",
       "    <tr>\n",
       "      <th>1</th>\n",
       "      <td>1</td>\n",
       "      <td>Đi Quy Nhơn cứ lo không có pizza ăn nhưng nhờ ...</td>\n",
       "      <td>0</td>\n",
       "      <td>0</td>\n",
       "      <td>0</td>\n",
       "      <td>5</td>\n",
       "      <td>0</td>\n",
       "      <td>0</td>\n",
       "      <td>{an_uong#very_positive}</td>\n",
       "      <td>đi quy nhơn cứ lo không có pizza ăn nhưng nhờ ...</td>\n",
       "    </tr>\n",
       "    <tr>\n",
       "      <th>2</th>\n",
       "      <td>2</td>\n",
       "      <td>các món ăn ở đây không có gì đặc sắc, có lẽ nấ...</td>\n",
       "      <td>0</td>\n",
       "      <td>0</td>\n",
       "      <td>1</td>\n",
       "      <td>1</td>\n",
       "      <td>0</td>\n",
       "      <td>0</td>\n",
       "      <td>{nha_hang#very_negative}, {an_uong#very_negative}</td>\n",
       "      <td>các món ăn_ở đây không có gì đặc_sắc có_lẽ nấu...</td>\n",
       "    </tr>\n",
       "    <tr>\n",
       "      <th>3</th>\n",
       "      <td>3</td>\n",
       "      <td>Lần thứ 2 quay lại đây, vì giới thiệu quán cà ...</td>\n",
       "      <td>0</td>\n",
       "      <td>0</td>\n",
       "      <td>0</td>\n",
       "      <td>2</td>\n",
       "      <td>0</td>\n",
       "      <td>0</td>\n",
       "      <td>{an_uong#negative}</td>\n",
       "      <td>lần thứ 2 quay lại đây vì giới_thiệu quán cà_p...</td>\n",
       "    </tr>\n",
       "    <tr>\n",
       "      <th>4</th>\n",
       "      <td>4</td>\n",
       "      <td>Rất khuyên bạn nên ghé thăm quán bar thể thao này</td>\n",
       "      <td>3</td>\n",
       "      <td>0</td>\n",
       "      <td>0</td>\n",
       "      <td>0</td>\n",
       "      <td>0</td>\n",
       "      <td>0</td>\n",
       "      <td>{giai_tri#neutral}</td>\n",
       "      <td>rất khuyên bạn nên ghé thăm quán bar thể_thao này</td>\n",
       "    </tr>\n",
       "  </tbody>\n",
       "</table>\n",
       "</div>"
      ],
      "text/plain": [
       "   Unnamed: 0                                             Review  giai_tri  \\\n",
       "0           0  Bánh rất nhiều tôm to, tôm giòn nằm chễm chệ t...         0   \n",
       "1           1  Đi Quy Nhơn cứ lo không có pizza ăn nhưng nhờ ...         0   \n",
       "2           2  các món ăn ở đây không có gì đặc sắc, có lẽ nấ...         0   \n",
       "3           3  Lần thứ 2 quay lại đây, vì giới thiệu quán cà ...         0   \n",
       "4           4  Rất khuyên bạn nên ghé thăm quán bar thể thao này         3   \n",
       "\n",
       "   luu_tru  nha_hang  an_uong  di_chuyen  mua_sam  \\\n",
       "0        0         0        5          0        0   \n",
       "1        0         0        5          0        0   \n",
       "2        0         1        1          0        0   \n",
       "3        0         0        2          0        0   \n",
       "4        0         0        0          0        0   \n",
       "\n",
       "                                               label  \\\n",
       "0                            {an_uong#very_positive}   \n",
       "1                            {an_uong#very_positive}   \n",
       "2  {nha_hang#very_negative}, {an_uong#very_negative}   \n",
       "3                                 {an_uong#negative}   \n",
       "4                                 {giai_tri#neutral}   \n",
       "\n",
       "                                        clean_review  \n",
       "0  bánh rất nhiều tôm to tôm giòn nằm chễm_chệ tr...  \n",
       "1  đi quy nhơn cứ lo không có pizza ăn nhưng nhờ ...  \n",
       "2  các món ăn_ở đây không có gì đặc_sắc có_lẽ nấu...  \n",
       "3  lần thứ 2 quay lại đây vì giới_thiệu quán cà_p...  \n",
       "4  rất khuyên bạn nên ghé thăm quán bar thể_thao này  "
      ]
     },
     "execution_count": 4,
     "metadata": {},
     "output_type": "execute_result"
    }
   ],
   "source": [
    "df_train.head()"
   ]
  },
  {
   "cell_type": "code",
   "execution_count": 5,
   "metadata": {},
   "outputs": [
    {
     "data": {
      "image/png": "[encoded data removed]",
      "text/plain": [
       "<Figure size 432x288 with 1 Axes>"
      ]
     },
     "metadata": {
      "needs_background": "light"
     },
     "output_type": "display_data"
    }
   ],
   "source": [
    "def count_words(dataframe):\n",
    "    len_words = []\n",
    "    for i, review in enumerate(dataframe.Review):\n",
    "        num_word = len(review.split())\n",
    "        len_words.append(num_word)\n",
    "    return Counter(len_words)\n",
    "\n",
    "word_nums = count_words(df_train)\n",
    "plt.bar(word_nums.keys(), word_nums.values())\n",
    "plt.show()"
   ]
  },
  {
   "cell_type": "code",
   "execution_count": 10,
   "metadata": {},
   "outputs": [],
   "source": [
    "def count_aspects_num(df, feature_name):\n",
    "    count = 0\n",
    "    for i in range(len(df)):\n",
    "        if df[feature_name][i] != \"0\":\n",
    "            count += 1\n",
    "    return count"
   ]
  },
  {
   "cell_type": "code",
   "execution_count": 11,
   "metadata": {},
   "outputs": [
    {
     "name": "stdout",
     "output_type": "stream",
     "text": [
      "949\n"
     ]
    }
   ],
   "source": [
    "anuong_num = count_aspects_num(df_test, \"an_uong\")\n",
    "giaitri_num = count_aspects_num(df_test, \"giai_tri\")\n",
    "luutru_num = count_aspects_num(df_test, \"luu_tru\")\n",
    "nhahang_num = count_aspects_num(df_test, \"nha_hang\")\n",
    "dichuyen_num = count_aspects_num(df_test, \"di_chuyen\")\n",
    "muasam_num = count_aspects_num(df_test, \"mua_sam\")\n",
    "\n",
    "print(nhahang_num)"
   ]
  },
  {
   "cell_type": "code",
   "execution_count": 15,
   "metadata": {},
   "outputs": [
    {
     "name": "stdout",
     "output_type": "stream",
     "text": [
      "84\n"
     ]
    }
   ],
   "source": [
    "count = 0\n",
    "for i in range(len(df_test)):\n",
    "    if df_test[\"nha_hang\"][i] != \"0\":\n",
    "        count += 1\n",
    "print(count)"
   ]
  },
  {
   "cell_type": "code",
   "execution_count": null,
   "metadata": {},
   "outputs": [],
   "source": []
  }
 ],
 "metadata": {
  "kernelspec": {
   "display_name": "Python 3.9.6 64-bit (system)",
   "language": "python",
   "name": "python3"
  },
  "language_info": {
   "codemirror_mode": {
    "name": "ipython",
    "version": 3
   },
   "file_extension": ".py",
   "mimetype": "text/x-python",
   "name": "python",
   "nbconvert_exporter": "python",
   "pygments_lexer": "ipython3",
   "version": "3.9.6"
  },
  "orig_nbformat": 4,
  "vscode": {
   "interpreter": {
    "hash": "66ad2a0fc99eef4a3bf89b375e9b9756c86124817c17e26a015d4a0d647e591d"
   }
  }
 },
 "nbformat": 4,
 "nbformat_minor": 2
}
